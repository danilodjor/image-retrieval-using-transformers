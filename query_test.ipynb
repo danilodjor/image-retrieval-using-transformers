{
 "cells": [
  {
   "cell_type": "code",
   "execution_count": 13,
   "metadata": {},
   "outputs": [],
   "source": [
    "import pandas as pd\n",
    "import numpy as np\n",
    "from matplotlib import pyplot as plt\n",
    "import torch\n",
    "from vit import *"
   ]
  },
  {
   "cell_type": "code",
   "execution_count": 14,
   "metadata": {},
   "outputs": [],
   "source": [
    "# Setup: folders and models\n",
    "# model_folder = \"/usr/itetnas04/data-scratch-01/ddordevic/data/cluster_scripts/vit_copy/model_save/\"\n",
    "model_folder =  \"C:/Users/danil/Desktop/Master thesis/Code/msc-thesis/model_save/\"\n",
    "model_file = \"vit_model_0404.pt\"\n",
    "model_path = model_folder + model_file\n",
    "\n",
    "# database_folder = \"/usr/itetnas04/data-scratch-01/ddordevic/data/cluster_scripts/vit_copy/extracted_features/\"\n",
    "database_folder = \"C:/Users/danil/Desktop/Master thesis/Code/msc-thesis/extracted_features/\"\n",
    "database_file = \"training_mnist.pkl\" # or \"test_mnist.pkl\"\n",
    "database_path = database_folder + database_file\n",
    "\n",
    "unflatten_shape = (28,28) # MNIST image shape used for deflattening\n",
    "K = 3 # return K best matching images"
   ]
  },
  {
   "cell_type": "code",
   "execution_count": 15,
   "metadata": {},
   "outputs": [],
   "source": [
    "# Load the database into a pandas DataFrame\n",
    "# DataFrame contains the following columns: ['image','feature','label']\n",
    "# The 1st columns contains a flattened image\n",
    "\n",
    "database_df = pd.read_pickle(database_path)"
   ]
  },
  {
   "cell_type": "code",
   "execution_count": 59,
   "metadata": {},
   "outputs": [],
   "source": [
    "# Get database length\n",
    "num_images = len(database_df)"
   ]
  },
  {
   "cell_type": "code",
   "execution_count": 62,
   "metadata": {},
   "outputs": [],
   "source": [
    "# Fetch the database matrix\n",
    "database_matrix = []\n",
    "for i in range(num_images):\n",
    "    database_matrix.append(database_df.iloc[i]['feature'])\n",
    "database_matrix = torch.stack(database_matrix)"
   ]
  },
  {
   "cell_type": "code",
   "execution_count": 77,
   "metadata": {},
   "outputs": [],
   "source": [
    "# Extract a random query image from the database\n",
    "query_img_idx = np.random.randint(0, num_images)\n",
    "query_img = database_df.iloc[query_img_idx]['image']#.unflatten(0, unflatten_shape)\n",
    "query_ftrs = database_df.iloc[query_img_idx]['feature']\n",
    "query_label = database_df.iloc[query_img_idx]['label']\n",
    "\n",
    "# Multiply the database matrix and the query feature vector\n",
    "match_scores = database_matrix @ query_ftrs\n",
    "sorted_scores, sorted_ind = torch.sort(match_scores, descending=True)\n",
    "\n",
    "# Take K best matches\n",
    "k_best_ind = sorted_ind[0:K]"
   ]
  },
  {
   "cell_type": "code",
   "execution_count": 78,
   "metadata": {},
   "outputs": [
    {
     "data": {
      "image/png": "[encoded data removed]",
      "text/plain": [
       "<Figure size 432x288 with 1 Axes>"
      ]
     },
     "metadata": {
      "needs_background": "light"
     },
     "output_type": "display_data"
    },
    {
     "data": {
      "image/png": "[encoded data removed]",
      "text/plain": [
       "<Figure size 432x288 with 3 Axes>"
      ]
     },
     "metadata": {
      "needs_background": "light"
     },
     "output_type": "display_data"
    }
   ],
   "source": [
    "# Visualize the K best images\n",
    "# Print the query image:\n",
    "plt.imshow(query_img[0], cmap='gray')\n",
    "plt.title('Query Image')\n",
    "\n",
    "# Print the best matching images (according to inner product, as suggested in the paper I found)\n",
    "fig, axs = plt.subplots(1, K)\n",
    "fig.suptitle(f'{K} best matches')\n",
    "\n",
    "for i, best_idx in enumerate(k_best_ind.numpy()):\n",
    "    axs[i].imshow(database_df.iloc[best_idx]['image'][0], cmap='gray')"
   ]
  }
 ],
 "metadata": {
  "kernelspec": {
   "display_name": "mscenv",
   "language": "python",
   "name": "python3"
  },
  "language_info": {
   "codemirror_mode": {
    "name": "ipython",
    "version": 3
   },
   "file_extension": ".py",
   "mimetype": "text/x-python",
   "name": "python",
   "nbconvert_exporter": "python",
   "pygments_lexer": "ipython3",
   "version": "3.8.8"
  },
  "orig_nbformat": 4
 },
 "nbformat": 4,
 "nbformat_minor": 2
}
