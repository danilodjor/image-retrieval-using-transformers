{
 "cells": [
  {
   "cell_type": "code",
   "execution_count": null,
   "metadata": {},
   "outputs": [
    {
     "ename": "",
     "evalue": "",
     "output_type": "error",
     "traceback": [
      "\u001b[1;31mRunning cells with 'mscenv' requires the ipykernel package.\n",
      "\u001b[1;31mRun the following command to install 'ipykernel' into the Python environment. \n",
      "\u001b[1;31mCommand: 'conda install -n mscenv ipykernel --update-deps --force-reinstall'"
     ]
    }
   ],
   "source": [
    "import pandas as pd\n",
    "import numpy as np\n",
    "from matplotlib import pyplot as plt\n",
    "import torch\n",
    "from vit import *"
   ]
  },
  {
   "cell_type": "code",
   "execution_count": null,
   "metadata": {},
   "outputs": [],
   "source": [
    "# Setup: folders and models\n",
    "model_folder = \"/usr/itetnas04/data-scratch-01/ddordevic/data/cluster_scripts/vit_copy/model_save/\"\n",
    "model_file = \"vit_model_0404.pt\"\n",
    "model_path = model_folder + model_file\n",
    "\n",
    "database_folder = \"/usr/itetnas04/data-scratch-01/ddordevic/data/cluster_scripts/vit_copy/extracted_features/\"\n",
    "database_file = \"training_mnist.pkl\" # or \"test_mnist.pkl\"\n",
    "database_path = database_folder + database_file\n",
    "\n",
    "unflatten_shape = (28,28) # MNIST image shape used for deflattening\n",
    "K = 3 # return K best matching images"
   ]
  },
  {
   "cell_type": "code",
   "execution_count": null,
   "metadata": {},
   "outputs": [],
   "source": [
    "# Load the database into a pandas DataFrame\n",
    "# DataFrame contains the following columns: ['image','feature','label']\n",
    "# The 1st columns contains a flattened image\n",
    "\n",
    "database_df = pd.read_pickle(database_path)"
   ]
  },
  {
   "cell_type": "code",
   "execution_count": null,
   "metadata": {},
   "outputs": [],
   "source": [
    "# Get database length\n",
    "num_images = len(database_df)\n",
    "\n",
    "# Extract a random image from the database\n",
    "query_img_idx = np.random.randint(0, num_images)\n",
    "query_img = database_df.iloc[query_img_idx]['image'].unflatten(0, unflatten_shape)\n",
    "query_ftrs = database_df.iloc[query_img_idx]['feature']\n",
    "query_label = database_df.iloc[query_img_idx]['label']\n",
    "\n",
    "# Fetch the database matrix\n",
    "database_matrix = []\n",
    "for i in range num_images:\n",
    "    database_matrix.append(database_df.iloc[i]['feature'])\n",
    "database_matrix = torch.stack(database_matrix)\n",
    "\n",
    "# Multiply the database matrix and the query feature vector\n",
    "match_scores = database_matrix @ query_ftrs\n",
    "sorted_scores, sorted_ind = torch.sort(match_scores, descending=True)\n",
    "\n",
    "# Take K best matches\n",
    "k_best_ind = sorted_ind[0:K]"
   ]
  },
  {
   "cell_type": "code",
   "execution_count": null,
   "metadata": {},
   "outputs": [],
   "source": [
    "# Visualize the query image\n",
    "plt.imshow(query_img)"
   ]
  },
  {
   "cell_type": "code",
   "execution_count": null,
   "metadata": {},
   "outputs": [],
   "source": [
    "# Visualize the K best images\n",
    "k_best_img = []\n",
    "for i in k_best_ind:\n",
    "    k_best_img.append(database_df.iloc[i]['image'].unflatten(0, unflatten_shape))\n",
    "\n",
    "# Print the query image:\n",
    "plt.imshow(query_img)\n",
    "\n",
    "fig, axs = plt.subplots(1, K)\n",
    "fig.suptitle(f'{K} best matches')\n",
    "\n",
    "for i, img in enumerate(k_best_img):\n",
    "    axs[1, i].imshow(img)"
   ]
  }
 ],
 "metadata": {
  "kernelspec": {
   "display_name": "mscenv",
   "language": "python",
   "name": "python3"
  },
  "language_info": {
   "name": "python",
   "version": "3.10.10"
  },
  "orig_nbformat": 4
 },
 "nbformat": 4,
 "nbformat_minor": 2
}
