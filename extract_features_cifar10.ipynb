{
 "cells": [
  {
   "cell_type": "code",
   "execution_count": 49,
   "metadata": {},
   "outputs": [],
   "source": [
    "import torch\n",
    "import torchvision\n",
    "import torchvision.transforms as transforms\n",
    "from torchvision.models import vit_b_16, vit_b_32, vit_l_16, vit_l_32, vit_h_14\n",
    "\n",
    "import pandas as pd\n",
    "import matplotlib.pyplot as plt\n",
    "import numpy as np\n",
    "import os\n",
    "\"\"\" \n",
    "Extracts the features of the images in the MNIST dataset using the trained vision transformer.\n",
    "This way the database of MNIST images becomes a database of MNIST trasnformer feature representations.\n",
    "Python notebook is used to test the code before running it fully as a pure Python script. \n",
    "\n",
    "Steps:\n",
    "    1. Load the trained transformer model\n",
    "    2. Strip off the final classification layer\n",
    "    3. Go through images and forward propagate them\n",
    "    4. For each image save the final transformer layer representation of that image.\n",
    "\"\"\"\n",
    "\n",
    "run_on_server = True"
   ]
  },
  {
   "cell_type": "code",
   "execution_count": 55,
   "metadata": {},
   "outputs": [
    {
     "name": "stdout",
     "output_type": "stream",
     "text": [
      "Files already downloaded and verified\n",
      "Files already downloaded and verified\n"
     ]
    }
   ],
   "source": [
    "transform = transforms.Compose(\n",
    "    [transforms.ToTensor(),\n",
    "     transforms.Normalize((0.5, 0.5, 0.5), (0.5, 0.5, 0.5))])\n",
    "\n",
    "batch_size = 4\n",
    "\n",
    "train_set = torchvision.datasets.CIFAR10(root='../datasets/CIFAR-10', train=True,\n",
    "                                        download=True, transform=transform)\n",
    "train_loader = torch.utils.data.DataLoader(train_set, batch_size=batch_size,\n",
    "                                          shuffle=True, num_workers=2)\n",
    "\n",
    "test_set = torchvision.datasets.CIFAR10(root='../datasets/CIFAR-10', train=False,\n",
    "                                       download=True, transform=transform)\n",
    "test_loader = torch.utils.data.DataLoader(test_set, batch_size=batch_size,\n",
    "                                         shuffle=False, num_workers=2)\n",
    "\n",
    "classes = ('plane', 'car', 'bird', 'cat',\n",
    "           'deer', 'dog', 'frog', 'horse', 'ship', 'truck')"
   ]
  },
  {
   "cell_type": "code",
   "execution_count": 56,
   "metadata": {},
   "outputs": [
    {
     "data": {
      "image/png": "[encoded data removed]",
      "text/plain": [
       "<Figure size 640x480 with 1 Axes>"
      ]
     },
     "metadata": {},
     "output_type": "display_data"
    },
    {
     "name": "stdout",
     "output_type": "stream",
     "text": [
      "plane truck deer  frog \n"
     ]
    }
   ],
   "source": [
    "# functions to show an image\n",
    "def imshow(img):\n",
    "    img = img / 2 + 0.5     # unnormalize\n",
    "    npimg = img.numpy()\n",
    "    plt.imshow(np.transpose(npimg, (1, 2, 0)))\n",
    "    plt.show()\n",
    "\n",
    "# get some random training images\n",
    "dataiter = iter(train_loader)\n",
    "images, labels = next(dataiter)\n",
    "\n",
    "# show images\n",
    "imshow(torchvision.utils.make_grid(images))\n",
    "# print labels\n",
    "print(' '.join(f'{classes[labels[j]]:5s}' for j in range(batch_size)))"
   ]
  },
  {
   "cell_type": "code",
   "execution_count": 53,
   "metadata": {},
   "outputs": [],
   "source": [
    "# Load the model\n",
    "vit_b16_weights = torchvision.models.ViT_B_16_Weights.IMAGENET1K_V1\n",
    "vit_b16_model = vit_b_16(weights=vit_b16_weights)\n",
    "\n",
    "# Swap out its MLP for Identity, to extract the features of input images\n",
    "vit_b16_model.heads = torch.nn.Identity()\n",
    "vit_b16_model.eval()\n",
    "\n",
    "# Instantiate the image transform required for the pretraining dataset\n",
    "vit_b16_transform = vit_b16_weights.transforms()"
   ]
  },
  {
   "cell_type": "code",
   "execution_count": 79,
   "metadata": {},
   "outputs": [
    {
     "name": "stdout",
     "output_type": "stream",
     "text": [
      "Using device:  cpu \n",
      "Sucessfully saved the dataframes containing extracted features in pickle files.\n"
     ]
    }
   ],
   "source": [
    "# Check that folders exist\n",
    "features_folder = \"./CIFAR-10/\"\n",
    "train_features_file = \"training_mnist.pkl\"\n",
    "test_features_file = \"test_mnist.pkl\"\n",
    "\n",
    "train_features_path = features_folder + train_features_file\n",
    "test_features_path = features_folder + test_features_file\n",
    "\n",
    "if not os.path.exists(features_folder):\n",
    "    raise Exception(\"Extracted features folder does not exist.\")\n",
    "\n",
    "# Defining run options\n",
    "model = vit_b16_model\n",
    "model_transform = vit_b16_transform\n",
    "device = torch.device(\"cuda\" if torch.cuda.is_available() else \"cpu\")\n",
    "print(\"Using device: \", device, f\"({torch.cuda.get_device_name(device)})\" if torch.cuda.is_available() else \"\")\n",
    "\n",
    "# Pandas dataframe containing flattened images, their corresponding features and labels (can be expanded with more features from other models)\n",
    "training_df = pd.DataFrame(columns=['image','label','vit_b16_features'])\n",
    "test_df = pd.DataFrame(columns=['image','label','vit_b16_features'])\n",
    "\n",
    "# Main feature extraction loop\n",
    "with torch.no_grad():\n",
    "    # Feature extraction loop: Training set\n",
    "    i = 0\n",
    "    for batch in train_loader:\n",
    "        images, labels = batch\n",
    "        images, labels = images.to(device), labels.to(device)\n",
    "        images_features = model(model_transform(images))\n",
    "        new_rows = pd.DataFrame([{'image': images[i].cpu(), 'vit_b16_features': images_features[i].cpu(), 'label': labels[i].cpu().item()} for i in range(batch_size)]) # saves an image CxHxW, and features\n",
    "        training_df = pd.concat([training_df, new_rows], ignore_index=True)\n",
    "        i+=1\n",
    "        if i == 3:\n",
    "            break\n",
    "\n",
    "    # Feature extraction loop: Test set\n",
    "    i = 0\n",
    "    for batch in test_loader:\n",
    "        images, labels = batch\n",
    "        images, labels = images.to(device), labels.to(device)\n",
    "        images_features = model(model_transform(images))\n",
    "        new_rows = pd.DataFrame([{'image': images[i].cpu(), 'vit_b16_features': images_features[i].cpu(), 'label': labels[i].cpu()} for i in range(batch_size)])\n",
    "        test_df = pd.concat([test_df, new_rows], ignore_index=True)\n",
    "        i += 1\n",
    "        if i == 3:\n",
    "            break\n",
    "\n",
    "# Saving the dataframes with extracted features\n",
    "training_df.to_pickle(train_features_path) #\"/training_mnist.pkl\")\n",
    "test_df.to_pickle(test_features_path) #\"/test_mnist.pkl\")\n",
    "\n",
    "print('Sucessfully saved the dataframes containing extracted features in pickle files.')\n"
   ]
  }
 ],
 "metadata": {
  "kernelspec": {
   "display_name": "base",
   "language": "python",
   "name": "python3"
  },
  "language_info": {
   "codemirror_mode": {
    "name": "ipython",
    "version": 3
   },
   "file_extension": ".py",
   "mimetype": "text/x-python",
   "name": "python",
   "nbconvert_exporter": "python",
   "pygments_lexer": "ipython3",
   "version": "3.10.10"
  },
  "orig_nbformat": 4
 },
 "nbformat": 4,
 "nbformat_minor": 2
}
