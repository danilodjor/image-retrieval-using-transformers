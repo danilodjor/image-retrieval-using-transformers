{
 "cells": [
  {
   "cell_type": "code",
   "execution_count": 3,
   "metadata": {},
   "outputs": [],
   "source": [
    "import pandas as pd\n",
    "import numpy as np\n",
    "from vit import *\n",
    "\n",
    "\"\"\" \n",
    "Extracts the features of the images in the MNIST dataset using the trained vision transformer.\n",
    "This way the database of MNIST images becomes a database of MNIST trasnformer feature representations.\n",
    "Python notebook is used to test the code before running it fully as a pure Python script. \n",
    "\n",
    "Steps:\n",
    "    1. Load the trained transformer model\n",
    "    2. Strip off the final classification layer\n",
    "    3. Go through images and forward propagate them\n",
    "    4. For each image save the final transformer layer representation of that image.\n",
    "\"\"\"\n",
    "\n",
    "run_on_server = True \n",
    "\n",
    "model_file = \"vit_model_0404.pt\"\n",
    "\n",
    "model_folder =  \"/usr/itetnas04/data-scratch-01/ddordevic/data/cluster_scripts/vit_copy/model_save/\" \\\n",
    "                if run_on_server else \\\n",
    "                \"C:/Users/danil/Desktop/Master thesis/Code/msc-thesis/model_save/\" \n",
    "\n",
    "model_path = model_folder + model_file"
   ]
  },
  {
   "cell_type": "code",
   "execution_count": 10,
   "metadata": {},
   "outputs": [
    {
     "name": "stderr",
     "output_type": "stream",
     "text": [
      "  0%|          | 0/60000 [00:00<?, ?it/s]"
     ]
    },
    {
     "name": "stdout",
     "output_type": "stream",
     "text": [
      "Using device:  cuda (NVIDIA GeForce MX450)\n"
     ]
    },
    {
     "name": "stderr",
     "output_type": "stream",
     "text": [
      "                                                   "
     ]
    },
    {
     "name": "stdout",
     "output_type": "stream",
     "text": [
      "Sucessfully saved the dataframes containing extracted features in pickle files.\n"
     ]
    },
    {
     "name": "stderr",
     "output_type": "stream",
     "text": [
      "\r"
     ]
    }
   ],
   "source": [
    "# Loading data\n",
    "transform = ToTensor()\n",
    "\n",
    "train_set = MNIST(root='./../datasets', train=True, download=True, transform=transform)\n",
    "test_set = MNIST(root='./../datasets', train=False, download=True, transform=transform)\n",
    "\n",
    "train_loader = DataLoader(train_set, shuffle=True, batch_size=1)\n",
    "test_loader = DataLoader(test_set, shuffle=False, batch_size=1)\n",
    "\n",
    "# Defining model and training options\n",
    "device = torch.device(\"cuda\" if torch.cuda.is_available() else \"cpu\")\n",
    "print(\"Using device: \", device, f\"({torch.cuda.get_device_name(device)})\" if torch.cuda.is_available() else \"\")\n",
    "\n",
    "# Loading the model: Replace the final layer with identity -> Keeps the features\n",
    "model = torch.load(model_path, map_location=torch.device('cpu'))\n",
    "model.mlp = nn.Identity()\n",
    "model.eval()\n",
    "\n",
    "# Pandas dataframe containing flattened images, their corresponding features and labels\n",
    "training_df = pd.DataFrame(columns=['image','feature','label'])\n",
    "test_df = pd.DataFrame(columns=['image','feature','label'])\n",
    "\n",
    "with torch.no_grad():\n",
    "    # Feature extraction loop: Training set\n",
    "    i = 0\n",
    "    for batch in tqdm(train_loader, leave=False):\n",
    "        x, y = batch\n",
    "        x, y = x.to(device), y.to(device)\n",
    "        x_features = model(x)\n",
    "        # new_row = {'image': x.flatten().cpu(), 'feature': x_features.cpu(), 'label': y.cpu()}\n",
    "        new_row = {'image': x.cpu(), 'feature': x_features.cpu(), 'label': y.cpu()}\n",
    "        # new_row = {'image': 1, 'feature': 2, 'label': 3}\n",
    "        training_df = training_df.append(new_row, ignore_index=True)\n",
    "        i+=1\n",
    "        if i == 5:\n",
    "            break\n",
    "\n",
    "    # Feature extraction loop: Test set\n",
    "    i = 0\n",
    "    for batch in tqdm(test_loader, leave=False):\n",
    "        x, y = batch\n",
    "        x, y = x.to(device), y.to(device)\n",
    "        x_features = model(x)\n",
    "        new_row = {'image': x.flatten().cpu(), 'feature': x_features.cpu(), 'label': y.cpu()}\n",
    "        test_df = test_df.append(new_row, ignore_index=True)\n",
    "        i += 1\n",
    "        if i == 5:\n",
    "            break\n",
    "\n",
    "# Saving the dataframes with extracted features\n",
    "# save_folder = \"/usr/itetnas04/data-scratch-01/ddordevic/data/cluster_scripts/vit_copy/extracted_features\"\n",
    "save_folder = \"C:/Users/danil/Desktop/Master thesis/Code/msc-thesis/extracted_features\"\n",
    "training_df.to_pickle(save_folder + \"/training_mnist.pkl\")\n",
    "test_df.to_pickle(save_folder + \"/test_mnist.pkl\")\n",
    "\n",
    "print('Sucessfully saved the dataframes containing extracted features in pickle files.')"
   ]
  },
  {
   "cell_type": "code",
   "execution_count": 18,
   "metadata": {},
   "outputs": [
    {
     "data": {
      "text/plain": [
       "tensor(4, device='cuda:0')"
      ]
     },
     "execution_count": 18,
     "metadata": {},
     "output_type": "execute_result"
    }
   ],
   "source": [
    "y[0]"
   ]
  },
  {
   "cell_type": "code",
   "execution_count": 11,
   "metadata": {},
   "outputs": [
    {
     "data": {
      "text/html": [
       "<div>\n",
       "<style scoped>\n",
       "    .dataframe tbody tr th:only-of-type {\n",
       "        vertical-align: middle;\n",
       "    }\n",
       "\n",
       "    .dataframe tbody tr th {\n",
       "        vertical-align: top;\n",
       "    }\n",
       "\n",
       "    .dataframe thead th {\n",
       "        text-align: right;\n",
       "    }\n",
       "</style>\n",
       "<table border=\"1\" class=\"dataframe\">\n",
       "  <thead>\n",
       "    <tr style=\"text-align: right;\">\n",
       "      <th></th>\n",
       "      <th>image</th>\n",
       "      <th>feature</th>\n",
       "      <th>label</th>\n",
       "    </tr>\n",
       "  </thead>\n",
       "  <tbody>\n",
       "    <tr>\n",
       "      <th>0</th>\n",
       "      <td>[[[tensor([0., 0., 0., 0., 0., 0., 0., 0., 0.,...</td>\n",
       "      <td>[[tensor(-19.0329), tensor(-1.0658), tensor(1....</td>\n",
       "      <td>[tensor(2)]</td>\n",
       "    </tr>\n",
       "    <tr>\n",
       "      <th>1</th>\n",
       "      <td>[[[tensor([0., 0., 0., 0., 0., 0., 0., 0., 0.,...</td>\n",
       "      <td>[[tensor(-10.0276), tensor(-17.7669), tensor(1...</td>\n",
       "      <td>[tensor(1)]</td>\n",
       "    </tr>\n",
       "    <tr>\n",
       "      <th>2</th>\n",
       "      <td>[[[tensor([0., 0., 0., 0., 0., 0., 0., 0., 0.,...</td>\n",
       "      <td>[[tensor(3.0456), tensor(-3.0474), tensor(-6.6...</td>\n",
       "      <td>[tensor(3)]</td>\n",
       "    </tr>\n",
       "    <tr>\n",
       "      <th>3</th>\n",
       "      <td>[[[tensor([0., 0., 0., 0., 0., 0., 0., 0., 0.,...</td>\n",
       "      <td>[[tensor(-18.3735), tensor(-4.6717), tensor(1....</td>\n",
       "      <td>[tensor(2)]</td>\n",
       "    </tr>\n",
       "    <tr>\n",
       "      <th>4</th>\n",
       "      <td>[[[tensor([0., 0., 0., 0., 0., 0., 0., 0., 0.,...</td>\n",
       "      <td>[[tensor(-4.8202), tensor(9.5271), tensor(2.45...</td>\n",
       "      <td>[tensor(4)]</td>\n",
       "    </tr>\n",
       "  </tbody>\n",
       "</table>\n",
       "</div>"
      ],
      "text/plain": [
       "                                               image  \\\n",
       "0  [[[tensor([0., 0., 0., 0., 0., 0., 0., 0., 0.,...   \n",
       "1  [[[tensor([0., 0., 0., 0., 0., 0., 0., 0., 0.,...   \n",
       "2  [[[tensor([0., 0., 0., 0., 0., 0., 0., 0., 0.,...   \n",
       "3  [[[tensor([0., 0., 0., 0., 0., 0., 0., 0., 0.,...   \n",
       "4  [[[tensor([0., 0., 0., 0., 0., 0., 0., 0., 0.,...   \n",
       "\n",
       "                                             feature        label  \n",
       "0  [[tensor(-19.0329), tensor(-1.0658), tensor(1....  [tensor(2)]  \n",
       "1  [[tensor(-10.0276), tensor(-17.7669), tensor(1...  [tensor(1)]  \n",
       "2  [[tensor(3.0456), tensor(-3.0474), tensor(-6.6...  [tensor(3)]  \n",
       "3  [[tensor(-18.3735), tensor(-4.6717), tensor(1....  [tensor(2)]  \n",
       "4  [[tensor(-4.8202), tensor(9.5271), tensor(2.45...  [tensor(4)]  "
      ]
     },
     "execution_count": 11,
     "metadata": {},
     "output_type": "execute_result"
    }
   ],
   "source": [
    "training_df"
   ]
  },
  {
   "cell_type": "code",
   "execution_count": 6,
   "metadata": {},
   "outputs": [
    {
     "data": {
      "text/html": [
       "<div>\n",
       "<style scoped>\n",
       "    .dataframe tbody tr th:only-of-type {\n",
       "        vertical-align: middle;\n",
       "    }\n",
       "\n",
       "    .dataframe tbody tr th {\n",
       "        vertical-align: top;\n",
       "    }\n",
       "\n",
       "    .dataframe thead th {\n",
       "        text-align: right;\n",
       "    }\n",
       "</style>\n",
       "<table border=\"1\" class=\"dataframe\">\n",
       "  <thead>\n",
       "    <tr style=\"text-align: right;\">\n",
       "      <th></th>\n",
       "      <th>image</th>\n",
       "      <th>feature</th>\n",
       "      <th>label</th>\n",
       "    </tr>\n",
       "  </thead>\n",
       "  <tbody>\n",
       "    <tr>\n",
       "      <th>0</th>\n",
       "      <td>1</td>\n",
       "      <td>2</td>\n",
       "      <td>3</td>\n",
       "    </tr>\n",
       "  </tbody>\n",
       "</table>\n",
       "</div>"
      ],
      "text/plain": [
       "  image feature label\n",
       "0     1       2     3"
      ]
     },
     "execution_count": 6,
     "metadata": {},
     "output_type": "execute_result"
    }
   ],
   "source": [
    "new_row = {'image': 1, 'feature': 2, 'label': 3}\n",
    "training_df.append(new_row, ignore_index=True)"
   ]
  }
 ],
 "metadata": {
  "kernelspec": {
   "display_name": "base",
   "language": "python",
   "name": "python3"
  },
  "language_info": {
   "codemirror_mode": {
    "name": "ipython",
    "version": 3
   },
   "file_extension": ".py",
   "mimetype": "text/x-python",
   "name": "python",
   "nbconvert_exporter": "python",
   "pygments_lexer": "ipython3",
   "version": "3.8.8"
  },
  "orig_nbformat": 4
 },
 "nbformat": 4,
 "nbformat_minor": 2
}
